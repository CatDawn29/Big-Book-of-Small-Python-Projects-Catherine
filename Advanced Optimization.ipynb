{
 "cells": [
  {
   "cell_type": "code",
   "execution_count": 1,
   "id": "cf708d76",
   "metadata": {},
   "outputs": [],
   "source": [
    "import pandas as pd\n",
    "import numpy as np\n",
    "import seaborn as sns\n",
    "from matplotlib.ticker import FuncFormatter\n",
    "import matplotlib.ticker as ticker\n",
    "from sklearn.preprocessing import OneHotEncoder\n",
    "from sklearn.impute import SimpleImputer\n",
    "from sklearn.compose import make_column_transformer, make_column_selector\n",
    "from sklearn.pipeline import make_pipeline\n",
    "from sklearn.model_selection import train_test_split\n",
    "import matplotlib.pyplot as plt\n",
    "from sklearn.tree import DecisionTreeRegressor\n",
    "from sklearn import set_config\n",
    "from sklearn.preprocessing import StandardScaler\n",
    "import matplotlib as mpl\n",
    "from sklearn.datasets import fetch_california_housing\n",
    "from sklearn.linear_model import LinearRegression\n",
    "from sklearn.metrics import mean_absolute_error, mean_squared_error, r2_score\n",
    "set_config(display='diagram')\n",
    "scaler = StandardScaler()\n",
    "reg = LinearRegression()\n",
    "reg_pipe = make_pipeline(scaler, reg)\n",
    "import matplotlib.pyplot as plt\n",
    "import missingno as miss"
   ]
  },
  {
   "cell_type": "code",
   "execution_count": 2,
   "id": "9d253650",
   "metadata": {},
   "outputs": [],
   "source": [
    "random_seed = 1729\n",
    "np.random.seed(random_seed)\n",
    "N = 40\n",
    "x = np.random.rand(N)\n",
    "y = np.random.rand(N)"
   ]
  },
  {
   "cell_type": "code",
   "execution_count": 3,
   "id": "13b185ec",
   "metadata": {},
   "outputs": [],
   "source": [
    "points = zip(x,y)\n",
    "cities = list(points)"
   ]
  },
  {
   "cell_type": "code",
   "execution_count": 4,
   "id": "68ff0c4b",
   "metadata": {},
   "outputs": [],
   "source": [
    "itinerary = list(range(0,N))"
   ]
  },
  {
   "cell_type": "code",
   "execution_count": 5,
   "id": "423b26d0",
   "metadata": {},
   "outputs": [],
   "source": [
    "lines= []"
   ]
  },
  {
   "cell_type": "code",
   "execution_count": 6,
   "id": "541edff0",
   "metadata": {},
   "outputs": [],
   "source": [
    "for j in range(0,len(itinerary) - 1):\n",
    "    lines.append([cities[itinerary[j]],cities[itinerary[j + 1]]])"
   ]
  },
  {
   "cell_type": "code",
   "execution_count": 7,
   "id": "b8047e51",
   "metadata": {},
   "outputs": [],
   "source": [
    "def genlines(cities,itinerary):\n",
    "    lines = []\n",
    "    for j in range(0,len(itinerary) - 1):\n",
    "        lines.append([cities[itinerary[j]],cities[itinerary[j +1]]])\n",
    "    return(lines)"
   ]
  },
  {
   "cell_type": "code",
   "execution_count": 8,
   "id": "e8c9483d",
   "metadata": {},
   "outputs": [],
   "source": [
    "import math\n",
    "def howfar(lines):\n",
    "    distance = 0\n",
    "    for j in range(0,len(lines)):\n",
    "        distance += math.sqrt(abs(lines[j][1][0] - lines[j][0][0])**2 + \\\n",
    "        abs(lines[j][1][1] - lines[j][0][1])**2)\n",
    "    return(distance)"
   ]
  },
  {
   "cell_type": "code",
   "execution_count": 9,
   "id": "5efc34ca",
   "metadata": {},
   "outputs": [
    {
     "name": "stdout",
     "output_type": "stream",
     "text": [
      "16.808756356994223\n"
     ]
    }
   ],
   "source": [
    "totaldistance = howfar(genlines(cities,itinerary))\n",
    "print(totaldistance)"
   ]
  },
  {
   "cell_type": "code",
   "execution_count": 10,
   "id": "bd0c657a",
   "metadata": {},
   "outputs": [],
   "source": [
    "import matplotlib.collections as mc\n",
    "import matplotlib.pylab as pl"
   ]
  },
  {
   "cell_type": "code",
   "execution_count": 11,
   "id": "df60cb4e",
   "metadata": {},
   "outputs": [],
   "source": [
    "def plotitinerary(cities,itin,plottitle,thename):\n",
    "    lc = mc.LineCollection(genlines(cities,itin), linewidths=2)\n",
    "    fig, ax = pl.subplots()\n",
    "    ax.add_collections(lc)\n",
    "    ax.autoscale()\n",
    "    ax.margins(0.1)\n",
    "    pl.scatter(x, y)\n",
    "    plt.title(plottitle)\n",
    "    pl.xlabel('X Coordinate')\n",
    "    pl.ylabel('Y Coordinate')\n",
    "    pl.savefig(str(thename) + '.png')\n",
    "    pl.close()"
   ]
  },
  {
   "cell_type": "code",
   "execution_count": 12,
   "id": "515062b5",
   "metadata": {},
   "outputs": [],
   "source": [
    "point = [0.5,0.5]\n",
    "j = 10\n",
    "distance = math.sqrt((point[0] - cities[j][0])**2 + (point[1] - cities[j][1])**2)"
   ]
  },
  {
   "cell_type": "code",
   "execution_count": 13,
   "id": "8006a335",
   "metadata": {},
   "outputs": [],
   "source": [
    "def findnearest(cities,idx,nninitnerary):\n",
    "    point = cities[idx]\n",
    "    mindistance = float('inf')\n",
    "    minidx = - 1\n",
    "    for j in range(0,len(cities)):\n",
    "        distance = math.sqrt((point[0] - cities[j][0])**2 + (point[1] - cities[j][1])**2)\n",
    "        if distance < mindistance and distance > 0 and j in nnitinerary:\n",
    "            mindisance = distance\n",
    "            minidx = j\n",
    "    return(minidx)"
   ]
  },
  {
   "cell_type": "code",
   "execution_count": 14,
   "id": "d92b3af1",
   "metadata": {},
   "outputs": [],
   "source": [
    "nnintinerary = [0]"
   ]
  },
  {
   "cell_type": "code",
   "execution_count": 15,
   "id": "d0613f87",
   "metadata": {},
   "outputs": [],
   "source": [
    "def donn(cities,N):\n",
    "    nnintinerary = [0]\n",
    "    for j in range(0,N - 1):\n",
    "        next = findnearest(cities,nnintinerary[len(nnintinerary) - 1],nnintinerary)\n",
    "        nnintinerary.append(next)\n",
    "    return(nnintinerary)"
   ]
  },
  {
   "cell_type": "code",
   "execution_count": 16,
   "id": "430459d5",
   "metadata": {},
   "outputs": [
    {
     "ename": "NameError",
     "evalue": "name 'nnitinerary' is not defined",
     "output_type": "error",
     "traceback": [
      "\u001b[1;31m---------------------------------------------------------------------------\u001b[0m",
      "\u001b[1;31mNameError\u001b[0m                                 Traceback (most recent call last)",
      "Cell \u001b[1;32mIn [16], line 1\u001b[0m\n\u001b[1;32m----> 1\u001b[0m plotitinerary(cities,\u001b[43mdonn\u001b[49m\u001b[43m(\u001b[49m\u001b[43mcities\u001b[49m\u001b[43m,\u001b[49m\u001b[43mN\u001b[49m\u001b[43m)\u001b[49m, \u001b[38;5;124m'\u001b[39m\u001b[38;5;124mTSP - Nearest Neighbor\u001b[39m\u001b[38;5;124m'\u001b[39m,\u001b[38;5;124m'\u001b[39m\u001b[38;5;124mfigure3\u001b[39m\u001b[38;5;124m'\u001b[39m)\n",
      "Cell \u001b[1;32mIn [15], line 4\u001b[0m, in \u001b[0;36mdonn\u001b[1;34m(cities, N)\u001b[0m\n\u001b[0;32m      2\u001b[0m nnintinerary \u001b[38;5;241m=\u001b[39m [\u001b[38;5;241m0\u001b[39m]\n\u001b[0;32m      3\u001b[0m \u001b[38;5;28;01mfor\u001b[39;00m j \u001b[38;5;129;01min\u001b[39;00m \u001b[38;5;28mrange\u001b[39m(\u001b[38;5;241m0\u001b[39m,N \u001b[38;5;241m-\u001b[39m \u001b[38;5;241m1\u001b[39m):\n\u001b[1;32m----> 4\u001b[0m     \u001b[38;5;28mnext\u001b[39m \u001b[38;5;241m=\u001b[39m \u001b[43mfindnearest\u001b[49m\u001b[43m(\u001b[49m\u001b[43mcities\u001b[49m\u001b[43m,\u001b[49m\u001b[43mnnintinerary\u001b[49m\u001b[43m[\u001b[49m\u001b[38;5;28;43mlen\u001b[39;49m\u001b[43m(\u001b[49m\u001b[43mnnintinerary\u001b[49m\u001b[43m)\u001b[49m\u001b[43m \u001b[49m\u001b[38;5;241;43m-\u001b[39;49m\u001b[43m \u001b[49m\u001b[38;5;241;43m1\u001b[39;49m\u001b[43m]\u001b[49m\u001b[43m,\u001b[49m\u001b[43mnnintinerary\u001b[49m\u001b[43m)\u001b[49m\n\u001b[0;32m      5\u001b[0m     nnintinerary\u001b[38;5;241m.\u001b[39mappend(\u001b[38;5;28mnext\u001b[39m)\n\u001b[0;32m      6\u001b[0m \u001b[38;5;28;01mreturn\u001b[39;00m(nnintinerary)\n",
      "Cell \u001b[1;32mIn [13], line 7\u001b[0m, in \u001b[0;36mfindnearest\u001b[1;34m(cities, idx, nninitnerary)\u001b[0m\n\u001b[0;32m      5\u001b[0m \u001b[38;5;28;01mfor\u001b[39;00m j \u001b[38;5;129;01min\u001b[39;00m \u001b[38;5;28mrange\u001b[39m(\u001b[38;5;241m0\u001b[39m,\u001b[38;5;28mlen\u001b[39m(cities)):\n\u001b[0;32m      6\u001b[0m     distance \u001b[38;5;241m=\u001b[39m math\u001b[38;5;241m.\u001b[39msqrt((point[\u001b[38;5;241m0\u001b[39m] \u001b[38;5;241m-\u001b[39m cities[j][\u001b[38;5;241m0\u001b[39m])\u001b[38;5;241m*\u001b[39m\u001b[38;5;241m*\u001b[39m\u001b[38;5;241m2\u001b[39m \u001b[38;5;241m+\u001b[39m (point[\u001b[38;5;241m1\u001b[39m] \u001b[38;5;241m-\u001b[39m cities[j][\u001b[38;5;241m1\u001b[39m])\u001b[38;5;241m*\u001b[39m\u001b[38;5;241m*\u001b[39m\u001b[38;5;241m2\u001b[39m)\n\u001b[1;32m----> 7\u001b[0m     \u001b[38;5;28;01mif\u001b[39;00m distance \u001b[38;5;241m<\u001b[39m mindistance \u001b[38;5;129;01mand\u001b[39;00m distance \u001b[38;5;241m>\u001b[39m \u001b[38;5;241m0\u001b[39m \u001b[38;5;129;01mand\u001b[39;00m j \u001b[38;5;129;01min\u001b[39;00m \u001b[43mnnitinerary\u001b[49m:\n\u001b[0;32m      8\u001b[0m         mindisance \u001b[38;5;241m=\u001b[39m distance\n\u001b[0;32m      9\u001b[0m         minidx \u001b[38;5;241m=\u001b[39m j\n",
      "\u001b[1;31mNameError\u001b[0m: name 'nnitinerary' is not defined"
     ]
    }
   ],
   "source": [
    "plotitinerary(cities,donn(cities,N), 'TSP - Nearest Neighbor','figure3')"
   ]
  },
  {
   "cell_type": "code",
   "execution_count": null,
   "id": "cf5b7cff",
   "metadata": {},
   "outputs": [],
   "source": []
  }
 ],
 "metadata": {
  "kernelspec": {
   "display_name": "Python (dojo-env)",
   "language": "python",
   "name": "dojo-env"
  },
  "language_info": {
   "codemirror_mode": {
    "name": "ipython",
    "version": 3
   },
   "file_extension": ".py",
   "mimetype": "text/x-python",
   "name": "python",
   "nbconvert_exporter": "python",
   "pygments_lexer": "ipython3",
   "version": "3.9.15"
  },
  "toc": {
   "base_numbering": 1,
   "nav_menu": {},
   "number_sections": true,
   "sideBar": true,
   "skip_h1_title": false,
   "title_cell": "Table of Contents",
   "title_sidebar": "Contents",
   "toc_cell": false,
   "toc_position": {},
   "toc_section_display": true,
   "toc_window_display": false
  }
 },
 "nbformat": 4,
 "nbformat_minor": 5
}
