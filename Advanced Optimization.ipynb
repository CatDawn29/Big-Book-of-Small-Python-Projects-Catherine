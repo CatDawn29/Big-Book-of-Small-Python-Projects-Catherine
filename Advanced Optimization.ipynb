{
 "cells": [
  {
   "cell_type": "code",
   "execution_count": 1,
   "id": "cf708d76",
   "metadata": {},
   "outputs": [],
   "source": [
    "import pandas as pd\n",
    "import numpy as np\n",
    "import seaborn as sns\n",
    "from matplotlib.ticker import FuncFormatter\n",
    "import matplotlib.ticker as ticker\n",
    "from sklearn.preprocessing import OneHotEncoder\n",
    "from sklearn.impute import SimpleImputer\n",
    "from sklearn.compose import make_column_transformer, make_column_selector\n",
    "from sklearn.pipeline import make_pipeline\n",
    "from sklearn.model_selection import train_test_split\n",
    "import matplotlib.pyplot as plt\n",
    "from sklearn.tree import DecisionTreeRegressor\n",
    "from sklearn import set_config\n",
    "from sklearn.preprocessing import StandardScaler\n",
    "import matplotlib as mpl\n",
    "from sklearn.datasets import fetch_california_housing\n",
    "from sklearn.linear_model import LinearRegression\n",
    "from sklearn.metrics import mean_absolute_error, mean_squared_error, r2_score\n",
    "set_config(display='diagram')\n",
    "scaler = StandardScaler()\n",
    "reg = LinearRegression()\n",
    "reg_pipe = make_pipeline(scaler, reg)\n",
    "import matplotlib.pyplot as plt\n",
    "import missingno as miss"
   ]
  },
  {
   "cell_type": "code",
   "execution_count": 2,
   "id": "9d253650",
   "metadata": {},
   "outputs": [],
   "source": [
    "random_seed = 1729\n",
    "np.random.seed(random_seed)\n",
    "N = 40\n",
    "x = np.random.rand(N)\n",
    "y = np.random.rand(N)"
   ]
  },
  {
   "cell_type": "code",
   "execution_count": 3,
   "id": "13b185ec",
   "metadata": {},
   "outputs": [],
   "source": [
    "points = zip(x,y)\n",
    "cities = list(points)"
   ]
  },
  {
   "cell_type": "code",
   "execution_count": 4,
   "id": "68ff0c4b",
   "metadata": {},
   "outputs": [],
   "source": [
    "itinerary = list(range(0,N))"
   ]
  },
  {
   "cell_type": "code",
   "execution_count": 5,
   "id": "423b26d0",
   "metadata": {},
   "outputs": [],
   "source": [
    "lines= []"
   ]
  },
  {
   "cell_type": "code",
   "execution_count": 6,
   "id": "541edff0",
   "metadata": {},
   "outputs": [],
   "source": [
    "for j in range(0,len(itinerary) - 1):\n",
    "    lines.append([cities[itinerary[j]],cities[itinerary[j + 1]]])"
   ]
  },
  {
   "cell_type": "code",
   "execution_count": 7,
   "id": "e827d086",
   "metadata": {},
   "outputs": [],
   "source": [
    "def genlines(cities,itinerary):\n",
    "    lines = []\n",
    "    for j in range(0,len(itinerary) - 1):\n",
    "        lines.append([cities[itinerary[j]],cities[itinerary[j +1]]])\n",
    "    return(lines)"
   ]
  },
  {
   "cell_type": "code",
   "execution_count": 8,
   "id": "2fd98434",
   "metadata": {},
   "outputs": [],
   "source": [
    "import math\n",
    "def howfar(lines):\n",
    "    distance = 0\n",
    "    for j in range(0,len(lines)):\n",
    "        distance += math.sqrt(abs(lines[j][1][0] - lines[j][0][0])**2 + \\\n",
    "        abs(lines[j][1][1] - lines[j][0][1])**2)\n",
    "    return(distance)"
   ]
  },
  {
   "cell_type": "code",
   "execution_count": 9,
   "id": "c31380ab",
   "metadata": {},
   "outputs": [
    {
     "name": "stdout",
     "output_type": "stream",
     "text": [
      "16.808756356994223\n"
     ]
    }
   ],
   "source": [
    "totaldistance = howfar(genlines(cities,itinerary))\n",
    "print(totaldistance)"
   ]
  },
  {
   "cell_type": "code",
   "execution_count": 10,
   "id": "93678ad8",
   "metadata": {},
   "outputs": [],
   "source": [
    "import matplotlib.collections as mc\n",
    "import matplotlib.pylab as pl"
   ]
  },
  {
   "cell_type": "code",
   "execution_count": 11,
   "id": "53f21804",
   "metadata": {},
   "outputs": [],
   "source": [
    "def plotitinerary(cities,itin,plottitle,thename):\n",
    "    lc = mc.LineCollection(genlines(cities,itin), linewidths=2)\n",
    "    fig, ax = pl.subplots()\n",
    "    ax.add_collections(lc)\n",
    "    ax.autoscale()\n",
    "    ax.margins(0.1)\n",
    "    pl.scatter(x, y)\n",
    "    plt.title(plottitle)\n",
    "    pl.xlabel('X Coordinate')\n",
    "    pl.ylabel('Y Coordinate')\n",
    "    pl.savefig(str(thename) + '.png')\n",
    "    pl.close()"
   ]
  },
  {
   "cell_type": "code",
   "execution_count": 12,
   "id": "9a88e5d7",
   "metadata": {},
   "outputs": [],
   "source": [
    "point = [0.5,0.5]\n",
    "j = 10\n",
    "distance = math.sqrt((point[0] - cities[j][0])**2 + (point[1] - cities[j][1])**2)"
   ]
  },
  {
   "cell_type": "code",
   "execution_count": null,
   "id": "77693251",
   "metadata": {},
   "outputs": [],
   "source": []
  }
 ],
 "metadata": {
  "kernelspec": {
   "display_name": "Python (dojo-env)",
   "language": "python",
   "name": "dojo-env"
  },
  "language_info": {
   "codemirror_mode": {
    "name": "ipython",
    "version": 3
   },
   "file_extension": ".py",
   "mimetype": "text/x-python",
   "name": "python",
   "nbconvert_exporter": "python",
   "pygments_lexer": "ipython3",
   "version": "3.9.15"
  },
  "toc": {
   "base_numbering": 1,
   "nav_menu": {},
   "number_sections": true,
   "sideBar": true,
   "skip_h1_title": false,
   "title_cell": "Table of Contents",
   "title_sidebar": "Contents",
   "toc_cell": false,
   "toc_position": {},
   "toc_section_display": true,
   "toc_window_display": false
  }
 },
 "nbformat": 4,
 "nbformat_minor": 5
}
