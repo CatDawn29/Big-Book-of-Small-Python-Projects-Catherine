{
 "cells": [
  {
   "cell_type": "code",
   "execution_count": 1,
   "id": "8d456fa1",
   "metadata": {},
   "outputs": [],
   "source": [
    "import pandas as pd\n",
    "import numpy as np\n",
    "import seaborn as sns\n",
    "from matplotlib.ticker import FuncFormatter\n",
    "import matplotlib.ticker as ticker\n",
    "from sklearn.preprocessing import OneHotEncoder\n",
    "from sklearn.impute import SimpleImputer\n",
    "from sklearn.compose import make_column_transformer, make_column_selector\n",
    "from sklearn.pipeline import make_pipeline\n",
    "from sklearn.model_selection import train_test_split\n",
    "import matplotlib.pyplot as plt\n",
    "from sklearn.tree import DecisionTreeRegressor\n",
    "from sklearn import set_config\n",
    "from sklearn.preprocessing import StandardScaler\n",
    "import matplotlib as mpl\n",
    "from sklearn.datasets import fetch_california_housing\n",
    "from sklearn.linear_model import LinearRegression\n",
    "from sklearn.metrics import mean_absolute_error, mean_squared_error, r2_score\n",
    "set_config(display='diagram')\n",
    "scaler = StandardScaler()\n",
    "reg = LinearRegression()\n",
    "reg_pipe = make_pipeline(scaler, reg)\n",
    "import matplotlib.pyplot as plt\n",
    "import missingno as miss"
   ]
  },
  {
   "cell_type": "code",
   "execution_count": 2,
   "id": "ad217aad",
   "metadata": {},
   "outputs": [],
   "source": [
    "n1 = 89\n",
    "n2 = 18"
   ]
  },
  {
   "cell_type": "code",
   "execution_count": 3,
   "id": "e378811e",
   "metadata": {},
   "outputs": [],
   "source": [
    "halving = [n1]"
   ]
  },
  {
   "cell_type": "code",
   "execution_count": 4,
   "id": "c67f8cf1",
   "metadata": {},
   "outputs": [],
   "source": [
    "import math "
   ]
  },
  {
   "cell_type": "code",
   "execution_count": 5,
   "id": "954ba814",
   "metadata": {},
   "outputs": [
    {
     "name": "stdout",
     "output_type": "stream",
     "text": [
      "44\n"
     ]
    }
   ],
   "source": [
    "print(math.floor(halving[0]/2))"
   ]
  },
  {
   "cell_type": "code",
   "execution_count": 6,
   "id": "37963b1a",
   "metadata": {},
   "outputs": [],
   "source": [
    "while(min(halving) > 1):\n",
    "    halving.append(math.floor(min(halving)/2))"
   ]
  },
  {
   "cell_type": "code",
   "execution_count": 7,
   "id": "dd4a2acb",
   "metadata": {},
   "outputs": [],
   "source": [
    "doubling = [n2]\n",
    "while(len(doubling) < len(halving)):\n",
    "    doubling.append(max(doubling) * 2)"
   ]
  },
  {
   "cell_type": "code",
   "execution_count": 8,
   "id": "ce6ef73f",
   "metadata": {},
   "outputs": [],
   "source": [
    "half_double = pd.DataFrame(zip(halving,doubling))"
   ]
  },
  {
   "cell_type": "code",
   "execution_count": 9,
   "id": "30b977f5",
   "metadata": {},
   "outputs": [],
   "source": [
    "half_double = half_double.loc[half_double[0]%2 == 1,:]"
   ]
  },
  {
   "cell_type": "code",
   "execution_count": 10,
   "id": "59c31bdf",
   "metadata": {},
   "outputs": [],
   "source": [
    "answer = sum(half_double.loc[:,1])"
   ]
  },
  {
   "cell_type": "code",
   "execution_count": 11,
   "id": "13c5b520",
   "metadata": {},
   "outputs": [],
   "source": [
    "def gcd(x,y):\n",
    "    larger = max(x,y)\n",
    "    smaller = min(x,y)\n",
    "    \n",
    "    remainder = larger % smaller\n",
    "    \n",
    "    if(remainder == 0):\n",
    "        return(smaller)\n",
    "    \n",
    "    if(remainder != 0):\n",
    "        return(gcd(smaller,remainder))"
   ]
  },
  {
   "cell_type": "code",
   "execution_count": 12,
   "id": "96c03b29",
   "metadata": {},
   "outputs": [],
   "source": [
    "luoshu = [[4,9,2],[3,5,7],[8,1,6]]"
   ]
  },
  {
   "cell_type": "code",
   "execution_count": 13,
   "id": "5942cd72",
   "metadata": {},
   "outputs": [],
   "source": [
    "def verifysquare(square):\n",
    "    sums = []\n",
    "    rowsums = [sum(square[i]) for i in range(0,len(square))]\n",
    "    sums.append(rowsums)\n",
    "    colsums = [sum([row[i] for row in square]) for i in range(0,len(square))]\n",
    "    sums.append(colsums)\n",
    "    maindiag = sum([square[i][i] for i in range(0,len(square))])\n",
    "    sums.append([maindiag])\n",
    "    antidiag = sum([square[i][len(square) - 1 - i] for i in \\\n",
    "range(0, len(square))])\n",
    "    sums.append([antidiag])\n",
    "    flattened = [j for i in sums for j in i]\n",
    "    return(len(list(set(flatened))) == 1)"
   ]
  },
  {
   "cell_type": "code",
   "execution_count": 14,
   "id": "5e8c894d",
   "metadata": {},
   "outputs": [],
   "source": [
    "n = 7\n",
    "square = [[float('nan') for i in range(0,n)] for j in range(0,n)]"
   ]
  },
  {
   "cell_type": "code",
   "execution_count": 15,
   "id": "d9992f17",
   "metadata": {},
   "outputs": [],
   "source": [
    "def printsquare(square):\n",
    "    labels = ['['+str(x)+']' for x in range(0,len(square))]\n",
    "    format_row = \"{:>6}\" * (len(labels) +1)\n",
    "    print(format_row.format(\"\", *labels))\n",
    "    for label, row in zip(labels, square):\n",
    "        print(format_row.format(label, *row))"
   ]
  },
  {
   "cell_type": "code",
   "execution_count": 16,
   "id": "8212b430",
   "metadata": {},
   "outputs": [],
   "source": [
    "import math \n",
    "center_i = math.floor(n/2)\n",
    "center_j = math.floor(n/2)"
   ]
  },
  {
   "cell_type": "code",
   "execution_count": 17,
   "id": "d842757f",
   "metadata": {},
   "outputs": [],
   "source": [
    "square[center_i][center_j] = int((n**2 +1)/2)\n",
    "square[center_i + 1][center_j] = 1\n",
    "square[center_i - 1][center_j] = n**2\n",
    "square[center_i][center_j + 1] = n**2 +1 - n\n",
    "square[center_i][center_j - 1] = n"
   ]
  },
  {
   "cell_type": "code",
   "execution_count": 18,
   "id": "b08258df",
   "metadata": {},
   "outputs": [],
   "source": [
    "def rule1(x,n):\n",
    "    return((x + n)%n**2)"
   ]
  },
  {
   "cell_type": "code",
   "execution_count": 19,
   "id": "f3135cf6",
   "metadata": {},
   "outputs": [
    {
     "name": "stdout",
     "output_type": "stream",
     "text": [
      "8\n"
     ]
    }
   ],
   "source": [
    "print(rule1(5,3))"
   ]
  },
  {
   "cell_type": "code",
   "execution_count": 20,
   "id": "579d6979",
   "metadata": {},
   "outputs": [],
   "source": [
    "def rule1(x,n,upright):\n",
    "    return((x + ((-1)**upright) * n)%n**2)"
   ]
  },
  {
   "cell_type": "code",
   "execution_count": 21,
   "id": "9ca33f89",
   "metadata": {},
   "outputs": [
    {
     "name": "stdout",
     "output_type": "stream",
     "text": [
      "7\n"
     ]
    }
   ],
   "source": [
    "print(rule1(1,3,True))"
   ]
  },
  {
   "cell_type": "code",
   "execution_count": 22,
   "id": "530691f8",
   "metadata": {},
   "outputs": [],
   "source": [
    "def rule2(x,n,upleft):\n",
    "    return((x + ((-1)**upleft))%n**2)"
   ]
  },
  {
   "cell_type": "code",
   "execution_count": 23,
   "id": "4d690a50",
   "metadata": {},
   "outputs": [],
   "source": [
    "def rule3(x,n,upleft):\n",
    "    return((x + ((-1)**upleft *(-n + 1)))%n**2)"
   ]
  },
  {
   "cell_type": "code",
   "execution_count": 24,
   "id": "23f8f8c7",
   "metadata": {},
   "outputs": [],
   "source": [
    "center_i = math.floor(n/2)\n",
    "center_j = math.floor(n/2)"
   ]
  },
  {
   "cell_type": "code",
   "execution_count": 25,
   "id": "349cb852",
   "metadata": {},
   "outputs": [],
   "source": [
    "import random \n",
    "entry_i = center_i\n",
    "entry_j = center_j\n",
    "where_can_we_go = ['up_left','up_right','down_left','down_right']\n",
    "where_to_go = random.choice(where_can_we_go)"
   ]
  },
  {
   "cell_type": "code",
   "execution_count": 26,
   "id": "d785a5ff",
   "metadata": {},
   "outputs": [],
   "source": [
    "if(where_to_go == 'up_right'):\n",
    "    new_entry_i = entry_i - 1\n",
    "    new_entry_j = entry_j + 1\n",
    "    square[new_entry_i][new_entry_j] = rule1(square[entry_i][entry_j],n,True)"
   ]
  },
  {
   "cell_type": "code",
   "execution_count": 27,
   "id": "2ab7248d",
   "metadata": {},
   "outputs": [],
   "source": [
    "if(where_to_go == 'down_left'):\n",
    "    new_entry_i = entry_i + 1\n",
    "    new_entry_j = entry_j - 1\n",
    "    square[new_entry_i][new_entry_j] = rule1(square[entry_i][entry_j],n,False)"
   ]
  },
  {
   "cell_type": "code",
   "execution_count": 28,
   "id": "a498c5b7",
   "metadata": {},
   "outputs": [],
   "source": [
    "if(where_to_go == 'up_left'):\n",
    "    new_entry_i = entry_i - 1\n",
    "    new_entry_j = entry_j - 1\n",
    "    square[new_entry_i][new_entry_j] = rule2(square[entry_i][entry_j],n,True)"
   ]
  },
  {
   "cell_type": "code",
   "execution_count": 29,
   "id": "5d7c420a",
   "metadata": {},
   "outputs": [],
   "source": [
    "if(where_to_go == 'down_right'):\n",
    "    new_entry_i = entry_i + 1\n",
    "    new_entry_j = entry_j + 1\n",
    "    square[new_entry_i][new_entry_j] = rule2(square[entry_i][entry_j],n,False)"
   ]
  },
  {
   "cell_type": "code",
   "execution_count": 30,
   "id": "647f8812",
   "metadata": {},
   "outputs": [],
   "source": [
    "if(where_to_go == 'up_left' and (entry_i + entry_j) == (n)):\n",
    "    new_entry_i = entry_i - 1\n",
    "    new_entry_j = entry_j -1\n",
    "    square[new_entry_i][new_entry_j] = rule3(square[entry_i][entry_j],n,True)\n",
    "    \n",
    "if(where_to_go == 'down_right' and (entry_i + entry_j) == (n-2)):\n",
    "    new_entry_i = entry_i +1\n",
    "    new_entry_j = entry_j +1\n",
    "    square[new_entry_i][new_entry_j] = rule3(square[entry_i][entry_j],n,False)"
   ]
  },
  {
   "cell_type": "code",
   "execution_count": 31,
   "id": "24fa8771",
   "metadata": {},
   "outputs": [],
   "source": [
    "where_we_can_go = []\n",
    "\n",
    "if(entry_i < (n - 1) and entry_j < (n - 1)):\n",
    "    where_we_can_go.append('down_right')\n",
    "    \n",
    "if(entry_i < (n - 1) and entry_j > 0):\n",
    "    where_we_can_go.append('down_left')\n",
    "    \n",
    "if(entry_i < (n - 1) and entry_j < (n - 1)):\n",
    "    where_we_can_go.append('up_right')\n",
    "    \n",
    "if(entry_i < (n - 1) and entry_j > 0):\n",
    "    where_we_can_go.append('up_left')"
   ]
  },
  {
   "cell_type": "code",
   "execution_count": null,
   "id": "f8084d48",
   "metadata": {},
   "outputs": [],
   "source": [
    "import random\n"
   ]
  }
 ],
 "metadata": {
  "kernelspec": {
   "display_name": "Python (dojo-env)",
   "language": "python",
   "name": "dojo-env"
  },
  "language_info": {
   "codemirror_mode": {
    "name": "ipython",
    "version": 3
   },
   "file_extension": ".py",
   "mimetype": "text/x-python",
   "name": "python",
   "nbconvert_exporter": "python",
   "pygments_lexer": "ipython3",
   "version": "3.9.15"
  },
  "toc": {
   "base_numbering": 1,
   "nav_menu": {},
   "number_sections": true,
   "sideBar": true,
   "skip_h1_title": false,
   "title_cell": "Table of Contents",
   "title_sidebar": "Contents",
   "toc_cell": false,
   "toc_position": {},
   "toc_section_display": true,
   "toc_window_display": false
  }
 },
 "nbformat": 4,
 "nbformat_minor": 5
}
