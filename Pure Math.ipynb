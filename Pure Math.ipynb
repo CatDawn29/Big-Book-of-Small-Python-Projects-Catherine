{
 "cells": [
  {
   "cell_type": "code",
   "execution_count": 1,
   "id": "fdcb2616",
   "metadata": {},
   "outputs": [],
   "source": [
    "import pandas as pd\n",
    "import numpy as np\n",
    "import seaborn as sns\n",
    "from matplotlib.ticker import FuncFormatter\n",
    "import matplotlib.ticker as ticker\n",
    "from sklearn.preprocessing import OneHotEncoder\n",
    "from sklearn.impute import SimpleImputer\n",
    "from sklearn.compose import make_column_transformer, make_column_selector\n",
    "from sklearn.pipeline import make_pipeline\n",
    "from sklearn.model_selection import train_test_split\n",
    "import matplotlib.pyplot as plt\n",
    "from sklearn.tree import DecisionTreeRegressor\n",
    "from sklearn import set_config\n",
    "from sklearn.preprocessing import StandardScaler\n",
    "import matplotlib as mpl\n",
    "from sklearn.datasets import fetch_california_housing\n",
    "from sklearn.linear_model import LinearRegression\n",
    "from sklearn.metrics import mean_absolute_error, mean_squared_error, r2_score\n",
    "set_config(display='diagram')\n",
    "scaler = StandardScaler()\n",
    "reg = LinearRegression()\n",
    "reg_pipe = make_pipeline(scaler, reg)\n",
    "import matplotlib.pyplot as plt\n",
    "import missingno as miss\n",
    "import math"
   ]
  },
  {
   "cell_type": "code",
   "execution_count": 2,
   "id": "7746e6ee",
   "metadata": {},
   "outputs": [],
   "source": [
    "x = 105\n",
    "y = 33\n",
    "big = max(x,y)\n",
    "small = min(x,y)"
   ]
  },
  {
   "cell_type": "code",
   "execution_count": 3,
   "id": "a1d8655d",
   "metadata": {},
   "outputs": [],
   "source": [
    "output = []\n",
    "quotient = math.floor(big/small)\n",
    "output.append(quotient)"
   ]
  },
  {
   "cell_type": "code",
   "execution_count": 4,
   "id": "cc5d7d36",
   "metadata": {},
   "outputs": [],
   "source": [
    "new_small = big % small\n",
    "big = small\n",
    "small = new_small"
   ]
  },
  {
   "cell_type": "code",
   "execution_count": 5,
   "id": "4b9ee775",
   "metadata": {},
   "outputs": [],
   "source": [
    "def continued_fraction(x,y,length_tolerance):\n",
    "    output = []\n",
    "    big = max(x,y)\n",
    "    small = min(x,y)\n",
    "    \n",
    "    while small > 0 and len(output) < length_tolerance:\n",
    "        quotient = math.floor(big/small)\n",
    "        output.append(quotient)\n",
    "        new_small = big % small\n",
    "        big = small\n",
    "        small = new_small\n",
    "    return(output)"
   ]
  },
  {
   "cell_type": "code",
   "execution_count": 6,
   "id": "ddc8faa2",
   "metadata": {},
   "outputs": [
    {
     "name": "stdout",
     "output_type": "stream",
     "text": [
      "[3, 5, 2]\n"
     ]
    }
   ],
   "source": [
    "print(continued_fraction(105,33,10))"
   ]
  },
  {
   "cell_type": "code",
   "execution_count": null,
   "id": "0d8f3141",
   "metadata": {},
   "outputs": [],
   "source": []
  }
 ],
 "metadata": {
  "kernelspec": {
   "display_name": "Python (dojo-env)",
   "language": "python",
   "name": "dojo-env"
  },
  "language_info": {
   "codemirror_mode": {
    "name": "ipython",
    "version": 3
   },
   "file_extension": ".py",
   "mimetype": "text/x-python",
   "name": "python",
   "nbconvert_exporter": "python",
   "pygments_lexer": "ipython3",
   "version": "3.9.15"
  },
  "toc": {
   "base_numbering": 1,
   "nav_menu": {},
   "number_sections": true,
   "sideBar": true,
   "skip_h1_title": false,
   "title_cell": "Table of Contents",
   "title_sidebar": "Contents",
   "toc_cell": false,
   "toc_position": {},
   "toc_section_display": true,
   "toc_window_display": false
  }
 },
 "nbformat": 4,
 "nbformat_minor": 5
}
