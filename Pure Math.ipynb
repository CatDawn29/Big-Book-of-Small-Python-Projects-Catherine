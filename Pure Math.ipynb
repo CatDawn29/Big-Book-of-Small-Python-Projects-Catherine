{
 "cells": [
  {
   "cell_type": "code",
   "execution_count": 1,
   "id": "5794bc37",
   "metadata": {},
   "outputs": [],
   "source": [
    "import pandas as pd\n",
    "import numpy as np\n",
    "import seaborn as sns\n",
    "from matplotlib.ticker import FuncFormatter\n",
    "import matplotlib.ticker as ticker\n",
    "from sklearn.preprocessing import OneHotEncoder\n",
    "from sklearn.impute import SimpleImputer\n",
    "from sklearn.compose import make_column_transformer, make_column_selector\n",
    "from sklearn.pipeline import make_pipeline\n",
    "from sklearn.model_selection import train_test_split\n",
    "import matplotlib.pyplot as plt\n",
    "from sklearn.tree import DecisionTreeRegressor\n",
    "from sklearn import set_config\n",
    "from sklearn.preprocessing import StandardScaler\n",
    "import matplotlib as mpl\n",
    "from sklearn.datasets import fetch_california_housing\n",
    "from sklearn.linear_model import LinearRegression\n",
    "from sklearn.metrics import mean_absolute_error, mean_squared_error, r2_score\n",
    "set_config(display='diagram')\n",
    "scaler = StandardScaler()\n",
    "reg = LinearRegression()\n",
    "reg_pipe = make_pipeline(scaler, reg)\n",
    "import matplotlib.pyplot as plt\n",
    "import missingno as miss\n",
    "import math"
   ]
  },
  {
   "cell_type": "code",
   "execution_count": 2,
   "id": "86b0c9ef",
   "metadata": {},
   "outputs": [],
   "source": [
    "x = 105\n",
    "y = 33\n",
    "big = max(x,y)\n",
    "small = min(x,y)"
   ]
  },
  {
   "cell_type": "code",
   "execution_count": 3,
   "id": "c6c7abc6",
   "metadata": {},
   "outputs": [],
   "source": [
    "output = []\n",
    "quotient = math.floor(big/small)\n",
    "output.append(quotient)"
   ]
  },
  {
   "cell_type": "code",
   "execution_count": 4,
   "id": "168e0aed",
   "metadata": {},
   "outputs": [],
   "source": [
    "new_small = big % small\n",
    "big = small\n",
    "small = new_small"
   ]
  },
  {
   "cell_type": "code",
   "execution_count": 5,
   "id": "13190833",
   "metadata": {},
   "outputs": [],
   "source": [
    "def continued_fraction(x,y,length_tolerance):\n",
    "    output = []\n",
    "    big = max(x,y)\n",
    "    small = min(x,y)\n",
    "    \n",
    "    while small > 0 and len(output) < length_tolerance:\n",
    "        quotient = math.floor(big/small)\n",
    "        output.append(quotient)\n",
    "        new_small = big % small\n",
    "        big = small\n",
    "        small = new_small\n",
    "    return(output)"
   ]
  },
  {
   "cell_type": "code",
   "execution_count": 6,
   "id": "18fd4ffb",
   "metadata": {},
   "outputs": [
    {
     "name": "stdout",
     "output_type": "stream",
     "text": [
      "[3, 5, 2]\n"
     ]
    }
   ],
   "source": [
    "print(continued_fraction(105,33,10))"
   ]
  },
  {
   "cell_type": "code",
   "execution_count": 7,
   "id": "b0bf4ed9",
   "metadata": {},
   "outputs": [],
   "source": [
    "def get_number(continued_fraction):\n",
    "    index = -1\n",
    "    number = continued_fraction[index]\n",
    "    \n",
    "    while abs(index) < len(continued_fraction):\n",
    "        next = continued_fraction[index - 1]\n",
    "        number = 1/number + next\n",
    "        index -= 1\n",
    "    return(number)"
   ]
  },
  {
   "cell_type": "code",
   "execution_count": 8,
   "id": "186d3abf",
   "metadata": {},
   "outputs": [],
   "source": [
    "x = 1.4142135623730951\n",
    "output = []\n",
    "first_term = int(x)\n",
    "leftover = x - int(x)\n",
    "output.append(first_term)"
   ]
  },
  {
   "cell_type": "code",
   "execution_count": 9,
   "id": "63cbbf9d",
   "metadata": {},
   "outputs": [],
   "source": [
    "next_term = math.floor(1/leftover)\n",
    "leftover = 1/leftover - next_term\n",
    "output.append(next_term)"
   ]
  },
  {
   "cell_type": "code",
   "execution_count": 10,
   "id": "9287a9b9",
   "metadata": {},
   "outputs": [],
   "source": [
    "def continued_fraction_decimal(x,error_tolerance,length_tolerance):\n",
    "    output = []\n",
    "    first_term = int(x)\n",
    "    leftover = x - int(x)\n",
    "    output.append(first_term)\n",
    "    error = leftover\n",
    "    while error > error_tolerance and len(output) <length_tolerance:\n",
    "        next_term = math.floor(1/leftover)\n",
    "        leftover = 1/leftover - next_term\n",
    "        output.append(next_term)\n",
    "        error = abs(get_number(output) - x)\n",
    "    return(output)    \n",
    "    "
   ]
  },
  {
   "cell_type": "code",
   "execution_count": 11,
   "id": "ee633ac0",
   "metadata": {},
   "outputs": [
    {
     "name": "stdout",
     "output_type": "stream",
     "text": [
      "[1, 2, 2, 2, 2, 2, 2, 2]\n"
     ]
    }
   ],
   "source": [
    "print(continued_fraction_decimal(1.4142135623730951,0.00001,100))"
   ]
  },
  {
   "cell_type": "code",
   "execution_count": 12,
   "id": "f7f3d0a3",
   "metadata": {},
   "outputs": [],
   "source": [
    "def square_root(x,y,error_tolerance):\n",
    "    our_error = error_tolerance * 2\n",
    "    while(our_error > error_tolerance):\n",
    "        z = x/y\n",
    "        y = (y + z)/2\n",
    "        our_error = y**2 - x\n",
    "    return y"
   ]
  },
  {
   "cell_type": "code",
   "execution_count": 13,
   "id": "5d8ffdb6",
   "metadata": {},
   "outputs": [
    {
     "name": "stdout",
     "output_type": "stream",
     "text": [
      "2.23606797749979\n"
     ]
    }
   ],
   "source": [
    "print(square_root(5,1,.000000000000001))"
   ]
  },
  {
   "cell_type": "code",
   "execution_count": 14,
   "id": "3b916399",
   "metadata": {},
   "outputs": [
    {
     "name": "stdout",
     "output_type": "stream",
     "text": [
      "2.23606797749979\n"
     ]
    }
   ],
   "source": [
    "print(math.sqrt(5))"
   ]
  },
  {
   "cell_type": "code",
   "execution_count": 15,
   "id": "ae5e0443",
   "metadata": {},
   "outputs": [],
   "source": [
    "def next_random(previous,n1,n2,n3):\n",
    "    the_next = (previous * n1 + n2) % n3\n",
    "    return(the_next)"
   ]
  },
  {
   "cell_type": "code",
   "execution_count": 16,
   "id": "99cf6add",
   "metadata": {},
   "outputs": [],
   "source": [
    "def list_random(n1,n2,n3):\n",
    "    output = [1]\n",
    "    while len(output) <=n3:\n",
    "        output.append(next_random(output[len(output) - 1],n1,n2,n3))\n",
    "    return(output)"
   ]
  },
  {
   "cell_type": "code",
   "execution_count": 17,
   "id": "f220d82e",
   "metadata": {},
   "outputs": [
    {
     "data": {
      "text/plain": [
       "[1,\n",
       " 20,\n",
       " 27,\n",
       " 6,\n",
       " 5,\n",
       " 8,\n",
       " 31,\n",
       " 26,\n",
       " 9,\n",
       " 28,\n",
       " 3,\n",
       " 14,\n",
       " 13,\n",
       " 16,\n",
       " 7,\n",
       " 2,\n",
       " 17,\n",
       " 4,\n",
       " 11,\n",
       " 22,\n",
       " 21,\n",
       " 24,\n",
       " 15,\n",
       " 10,\n",
       " 25,\n",
       " 12,\n",
       " 19,\n",
       " 30,\n",
       " 29,\n",
       " 0,\n",
       " 23,\n",
       " 18,\n",
       " 1]"
      ]
     },
     "execution_count": 17,
     "metadata": {},
     "output_type": "execute_result"
    }
   ],
   "source": [
    "list_random(29,23,32)"
   ]
  },
  {
   "cell_type": "code",
   "execution_count": 18,
   "id": "259d9ae9",
   "metadata": {},
   "outputs": [
    {
     "data": {
      "text/plain": [
       "[1,\n",
       " 3,\n",
       " 5,\n",
       " 7,\n",
       " 9,\n",
       " 11,\n",
       " 13,\n",
       " 15,\n",
       " 17,\n",
       " 19,\n",
       " 21,\n",
       " 23,\n",
       " 1,\n",
       " 3,\n",
       " 5,\n",
       " 7,\n",
       " 9,\n",
       " 11,\n",
       " 13,\n",
       " 15,\n",
       " 17,\n",
       " 19,\n",
       " 21,\n",
       " 23,\n",
       " 1]"
      ]
     },
     "execution_count": 18,
     "metadata": {},
     "output_type": "execute_result"
    }
   ],
   "source": [
    "list_random(1,2,24)"
   ]
  },
  {
   "cell_type": "code",
   "execution_count": 19,
   "id": "0252530c",
   "metadata": {},
   "outputs": [],
   "source": [
    "def overlapping_sums(the_list,sum_length):\n",
    "    length_of_list = len(the_list)\n",
    "    the_list.extend(the_list)\n",
    "    output = []\n",
    "    for n in range(0,length_of_list):\n",
    "        output.append(sum(the_list[n:(n + sum_length)]))\n",
    "    return(output)"
   ]
  },
  {
   "cell_type": "code",
   "execution_count": 20,
   "id": "5d219ce5",
   "metadata": {},
   "outputs": [
    {
     "data": {
      "image/png": "[encoded data removed]",
      "text/plain": [
       "<Figure size 640x480 with 1 Axes>"
      ]
     },
     "metadata": {},
     "output_type": "display_data"
    }
   ],
   "source": [
    "overlap = overlapping_sums(list_random(211111,111112,300007),12)\n",
    "plt.hist(overlap, 20, facecolor = 'blue', alpha = 0.5)\n",
    "plt.title('Results of the Overlapping Sums Test')\n",
    "plt.xlabel('Sum of Elements of Overlapping Consecutive Sections of List')\n",
    "plt.ylabel('Frequency of Sum')\n",
    "plt.show()"
   ]
  },
  {
   "cell_type": "code",
   "execution_count": null,
   "id": "07ebe2f1",
   "metadata": {},
   "outputs": [],
   "source": []
  }
 ],
 "metadata": {
  "kernelspec": {
   "display_name": "Python (dojo-env)",
   "language": "python",
   "name": "dojo-env"
  },
  "language_info": {
   "codemirror_mode": {
    "name": "ipython",
    "version": 3
   },
   "file_extension": ".py",
   "mimetype": "text/x-python",
   "name": "python",
   "nbconvert_exporter": "python",
   "pygments_lexer": "ipython3",
   "version": "3.9.15"
  },
  "toc": {
   "base_numbering": 1,
   "nav_menu": {},
   "number_sections": true,
   "sideBar": true,
   "skip_h1_title": false,
   "title_cell": "Table of Contents",
   "title_sidebar": "Contents",
   "toc_cell": false,
   "toc_position": {},
   "toc_section_display": true,
   "toc_window_display": false
  }
 },
 "nbformat": 4,
 "nbformat_minor": 5
}
