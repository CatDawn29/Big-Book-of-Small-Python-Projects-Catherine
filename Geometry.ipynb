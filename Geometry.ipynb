{
 "cells": [
  {
   "cell_type": "code",
   "execution_count": 1,
   "id": "d313f8d3",
   "metadata": {},
   "outputs": [],
   "source": [
    "import pandas as pd\n",
    "import numpy as np\n",
    "import seaborn as sns\n",
    "from matplotlib.ticker import FuncFormatter\n",
    "import matplotlib.ticker as ticker\n",
    "from sklearn.preprocessing import OneHotEncoder\n",
    "from sklearn.impute import SimpleImputer\n",
    "from sklearn.compose import make_column_transformer, make_column_selector\n",
    "from sklearn.pipeline import make_pipeline\n",
    "from sklearn.model_selection import train_test_split\n",
    "import matplotlib.pyplot as plt\n",
    "from sklearn.tree import DecisionTreeRegressor\n",
    "from sklearn import set_config\n",
    "from sklearn.preprocessing import StandardScaler\n",
    "import matplotlib as mpl\n",
    "from sklearn.datasets import fetch_california_housing\n",
    "from sklearn.linear_model import LinearRegression\n",
    "from sklearn.metrics import mean_absolute_error, mean_squared_error, r2_score\n",
    "set_config(display='diagram')\n",
    "scaler = StandardScaler()\n",
    "reg = LinearRegression()\n",
    "reg_pipe = make_pipeline(scaler, reg)\n",
    "import matplotlib.pyplot as plt\n",
    "import missingno as miss\n",
    "import pylab as pl\n",
    "from matplotlib import collections as mc"
   ]
  },
  {
   "cell_type": "code",
   "execution_count": 2,
   "id": "03ee3f7b",
   "metadata": {},
   "outputs": [],
   "source": [
    "point = [0.2,0.8]"
   ]
  },
  {
   "cell_type": "code",
   "execution_count": 3,
   "id": "873a052b",
   "metadata": {},
   "outputs": [],
   "source": [
    "triangle = [[0.2,0.8],[0.5,0.2],[0.8,0.7]]"
   ]
  },
  {
   "cell_type": "code",
   "execution_count": 4,
   "id": "d35fc040",
   "metadata": {},
   "outputs": [],
   "source": [
    "def points_to_triangle(poin1,point2,point3):\n",
    "    triangle = [list(point1),list(point2),list(point3)]\n",
    "    return(triangle)"
   ]
  },
  {
   "cell_type": "code",
   "execution_count": 5,
   "id": "e6a4e3e7",
   "metadata": {},
   "outputs": [],
   "source": [
    "def genlines(listpoints,itinerary):\n",
    "    lines =[]\n",
    "    for j in range(len(itinerary)-1):\n",
    "        lines.append([listpoints[itinerary[j]],listpoints[itinerary[j+1]]])\n",
    "    return(lines)"
   ]
  },
  {
   "cell_type": "code",
   "execution_count": 6,
   "id": "4fb0cc2a",
   "metadata": {},
   "outputs": [],
   "source": [
    "def plot_triangle_simple(triangle,thename):\n",
    "    fig, ax = pl.subplots()\n",
    "    \n",
    "    xs = [triangle[0][0],triangle[1][0],triangle[2][0]]\n",
    "    ys = [triangle[0][0],triangle[1][0],triangle[2][0]]\n",
    "    \n",
    "    itin=[0,1,2,0]\n",
    "    \n",
    "    thelines = genlines(triangle,itin)\n",
    "    \n",
    "    lc= mc.LineCollection(genlines(triangle,itin), linewidths=2)\n",
    "    \n",
    "    ax.add_collection(lc)\n",
    "    \n",
    "    ax.margins(0,1)\n",
    "    pl.scatter(xs, ys)\n",
    "    pl.savefig(str(thename) + 'png')\n",
    "    pl.close()"
   ]
  },
  {
   "cell_type": "code",
   "execution_count": 7,
   "id": "5793fb0e",
   "metadata": {},
   "outputs": [
    {
     "ename": "NameError",
     "evalue": "name 'point1' is not defined",
     "output_type": "error",
     "traceback": [
      "\u001b[1;31m---------------------------------------------------------------------------\u001b[0m",
      "\u001b[1;31mNameError\u001b[0m                                 Traceback (most recent call last)",
      "Cell \u001b[1;32mIn [7], line 1\u001b[0m\n\u001b[1;32m----> 1\u001b[0m plot_triangle_simple(\u001b[43mpoints_to_triangle\u001b[49m\u001b[43m(\u001b[49m\u001b[43m(\u001b[49m\u001b[38;5;241;43m0.2\u001b[39;49m\u001b[43m,\u001b[49m\u001b[38;5;241;43m0.8\u001b[39;49m\u001b[43m)\u001b[49m\u001b[43m,\u001b[49m\u001b[43m \u001b[49m\u001b[43m(\u001b[49m\u001b[38;5;241;43m0.5\u001b[39;49m\u001b[43m,\u001b[49m\u001b[38;5;241;43m0.2\u001b[39;49m\u001b[43m)\u001b[49m\u001b[43m,\u001b[49m\u001b[43m \u001b[49m\u001b[43m(\u001b[49m\u001b[38;5;241;43m0.8\u001b[39;49m\u001b[43m,\u001b[49m\u001b[38;5;241;43m0.7\u001b[39;49m\u001b[43m)\u001b[49m\u001b[43m)\u001b[49m, \u001b[38;5;124m'\u001b[39m\u001b[38;5;124mtri\u001b[39m\u001b[38;5;124m'\u001b[39m)\n",
      "Cell \u001b[1;32mIn [4], line 2\u001b[0m, in \u001b[0;36mpoints_to_triangle\u001b[1;34m(poin1, point2, point3)\u001b[0m\n\u001b[0;32m      1\u001b[0m \u001b[38;5;28;01mdef\u001b[39;00m \u001b[38;5;21mpoints_to_triangle\u001b[39m(poin1,point2,point3):\n\u001b[1;32m----> 2\u001b[0m     triangle \u001b[38;5;241m=\u001b[39m [\u001b[38;5;28mlist\u001b[39m(\u001b[43mpoint1\u001b[49m),\u001b[38;5;28mlist\u001b[39m(point2),\u001b[38;5;28mlist\u001b[39m(point3)]\n\u001b[0;32m      3\u001b[0m     \u001b[38;5;28;01mreturn\u001b[39;00m(triangle)\n",
      "\u001b[1;31mNameError\u001b[0m: name 'point1' is not defined"
     ]
    }
   ],
   "source": [
    "plot_triangle_simple(points_to_triangle((0.2,0.8), (0.5,0.2), (0.8,0.7)), 'tri')"
   ]
  },
  {
   "cell_type": "code",
   "execution_count": null,
   "id": "7a2b30d7",
   "metadata": {},
   "outputs": [],
   "source": []
  }
 ],
 "metadata": {
  "kernelspec": {
   "display_name": "Python (dojo-env)",
   "language": "python",
   "name": "dojo-env"
  },
  "language_info": {
   "codemirror_mode": {
    "name": "ipython",
    "version": 3
   },
   "file_extension": ".py",
   "mimetype": "text/x-python",
   "name": "python",
   "nbconvert_exporter": "python",
   "pygments_lexer": "ipython3",
   "version": "3.9.15"
  },
  "toc": {
   "base_numbering": 1,
   "nav_menu": {},
   "number_sections": true,
   "sideBar": true,
   "skip_h1_title": false,
   "title_cell": "Table of Contents",
   "title_sidebar": "Contents",
   "toc_cell": false,
   "toc_position": {},
   "toc_section_display": true,
   "toc_window_display": false
  }
 },
 "nbformat": 4,
 "nbformat_minor": 5
}
